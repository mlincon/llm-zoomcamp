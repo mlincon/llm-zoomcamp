{
 "cells": [
  {
   "cell_type": "markdown",
   "metadata": {},
   "source": [
    "# Q1"
   ]
  },
  {
   "cell_type": "markdown",
   "metadata": {},
   "source": [
    "Run to attach shell\n",
    "```bash\n",
    "docker exec -it <container-id> bash\n",
    "```\n",
    "and then\n",
    "```bash\n",
    "ollama -v\n",
    "# ollama version is 0.1.48\n",
    "```"
   ]
  },
  {
   "cell_type": "markdown",
   "metadata": {},
   "source": [
    "# Q2"
   ]
  },
  {
   "cell_type": "markdown",
   "metadata": {},
   "source": [
    "With the shell still attached, run \n",
    "```bash\n",
    "ollama pull gemma:2b\n",
    "```\n",
    "\n",
    "Show the metadata about the model\n",
    "```bash\n",
    "cat /root/.ollama/models/manifests/registry.ollama.ai/library/gemma/2b\n",
    "```\n",
    "```json\n",
    "{\n",
    "  \"schemaVersion\": 2,\n",
    "  \"mediaType\": \"application/vnd.docker.distribution.manifest.v2+json\",\n",
    "  \"config\":\n",
    "    {\n",
    "      \"mediaType\": \"application/vnd.docker.container.image.v1+json\",\n",
    "      \"digest\": \"sha256:887433b89a901c156f7e6944442f3c9e57f3c55d6ed52042cbb7303aea994290\",\n",
    "      \"size\": 483,\n",
    "    },\n",
    "  \"layers\":\n",
    "    [\n",
    "      {\n",
    "        \"mediaType\": \"application/vnd.ollama.image.model\",\n",
    "        \"digest\": \"sha256:c1864a5eb19305c40519da12cc543519e48a0697ecd30e15d5ac228644957d12\",\n",
    "        \"size\": 1678447520,\n",
    "      },\n",
    "      {\n",
    "        \"mediaType\": \"application/vnd.ollama.image.license\",\n",
    "        \"digest\": \"sha256:097a36493f718248845233af1d3fefe7a303f864fae13bc31a3a9704229378ca\",\n",
    "        \"size\": 8433,\n",
    "      },\n",
    "      {\n",
    "        \"mediaType\": \"application/vnd.ollama.image.template\",\n",
    "        \"digest\": \"sha256:109037bec39c0becc8221222ae23557559bc594290945a2c4221ab4f303b8871\",\n",
    "        \"size\": 136,\n",
    "      },\n",
    "      {\n",
    "        \"mediaType\": \"application/vnd.ollama.image.params\",\n",
    "        \"digest\": \"sha256:22a838ceb7fb22755a3b0ae9b4eadde629d19be1f651f73efb8c6b4e2cd0eea0\",\n",
    "        \"size\": 84,\n",
    "      },\n",
    "    ],\n",
    "}\n",
    "```"
   ]
  },
  {
   "cell_type": "markdown",
   "metadata": {},
   "source": [
    "# Q3"
   ]
  },
  {
   "cell_type": "code",
   "execution_count": 2,
   "metadata": {},
   "outputs": [],
   "source": [
    "from openai import OpenAI\n",
    "\n",
    "client = OpenAI(\n",
    "    base_url=\"http://localhost:11434/v1\",\n",
    "    api_key=\"ollama\",\n",
    ")"
   ]
  },
  {
   "cell_type": "code",
   "execution_count": 7,
   "metadata": {},
   "outputs": [],
   "source": [
    "prompt = \"10*10\"\n",
    "response = client.chat.completions.create(\n",
    "    model=\"gemma:2b\",\n",
    "    messages=[{\"role\": \"user\", \"content\": prompt}],\n",
    "    temperature=0.0,\n",
    ")"
   ]
  },
  {
   "cell_type": "code",
   "execution_count": 8,
   "metadata": {},
   "outputs": [
    {
     "name": "stdout",
     "output_type": "stream",
     "text": [
      "The program you provided is an example of a conditional statement in Python.\n",
      "\n",
      "**How it works:**\n",
      "\n",
      "1. The `10*10` expression evaluates to 100, a number that is multiplied by 10.\n",
      "2. The `\n"
     ]
    }
   ],
   "source": [
    "print(response.choices[0].message.content)"
   ]
  },
  {
   "cell_type": "markdown",
   "metadata": {},
   "source": [
    "or with the attached docker shell run\n",
    "```bash\n",
    "ollama run gemma:2b\n",
    "\n",
    "# >>> 10*10\n",
    "# Sure, here's the answer:\n",
    "\n",
    "# ```python\n",
    "# 10 * 10 < end_of_turn\n",
    "\n",
    "# # Output: True\n",
    "# ```\n",
    "\n",
    "# The code first defines a variable `10 * 10` and checks if it is less than the end of the string `end_of_turn`. The `end_of_turn` is not defined in this code, but it is \n",
    "# assumed to be a constant or variable containing the end of a string.\n",
    "\n",
    "# The code then evaluates the expression and prints the result.\n",
    "```\n"
   ]
  },
  {
   "cell_type": "markdown",
   "metadata": {},
   "source": [
    "# Q4"
   ]
  },
  {
   "cell_type": "markdown",
   "metadata": {},
   "source": [
    "Save weights and pull models\n",
    "```bash\n",
    "mkdir ollama_files\n",
    "\n",
    "docker run -it \\\n",
    "    --rm \\\n",
    "    -v ./ollama_files:/root/.ollama \\\n",
    "    -p 11434:11434 \\\n",
    "    --name ollama \\\n",
    "    ollama/ollama\n",
    "\n",
    "docker exec -it ollama ollama pull gemma:2b \n",
    "```\n"
   ]
  },
  {
   "cell_type": "code",
   "execution_count": 12,
   "metadata": {},
   "outputs": [
    {
     "name": "stdout",
     "output_type": "stream",
     "text": [
      "8.0K\tollama_files/models/manifests/registry.ollama.ai/library/gemma\n",
      "12K\tollama_files/models/manifests/registry.ollama.ai/library\n",
      "16K\tollama_files/models/manifests/registry.ollama.ai\n",
      "20K\tollama_files/models/manifests\n",
      "1.6G\tollama_files/models/blobs\n",
      "1.6G\tollama_files/models\n",
      "1.6G\tollama_files\n"
     ]
    }
   ],
   "source": [
    "!du -h ollama_files"
   ]
  },
  {
   "cell_type": "markdown",
   "metadata": {},
   "source": [
    "# Q5"
   ]
  },
  {
   "cell_type": "code",
   "execution_count": 13,
   "metadata": {},
   "outputs": [
    {
     "name": "stdout",
     "output_type": "stream",
     "text": [
      "FROM ollama/ollama\n",
      "\n",
      "COPY ./ollama_files/ /root/.ollama/"
     ]
    }
   ],
   "source": [
    "!cat homework.Dockerfile"
   ]
  },
  {
   "cell_type": "markdown",
   "metadata": {},
   "source": [
    "# Q6"
   ]
  },
  {
   "cell_type": "code",
   "execution_count": 14,
   "metadata": {},
   "outputs": [],
   "source": [
    "prompt = \"What's the formula for energy?\"\n",
    "response = client.chat.completions.create(\n",
    "    model=\"gemma:2b\",\n",
    "    messages=[{\"role\": \"user\", \"content\": prompt}],\n",
    "    temperature=0.0,\n",
    ")"
   ]
  },
  {
   "cell_type": "code",
   "execution_count": 15,
   "metadata": {},
   "outputs": [
    {
     "name": "stdout",
     "output_type": "stream",
     "text": [
      "Sure, here's the formula for energy:\n",
      "\n",
      "**E = K + U**\n",
      "\n",
      "Where:\n",
      "\n",
      "* **E** is the energy in joules (J)\n",
      "* **K** is the kinetic energy in joules (J)\n",
      "* **U** is the potential energy in joules (J)\n",
      "\n",
      "**Kinetic energy (K)** is the energy an object possesses when it moves or is in motion. It is calculated as half the product of an object's mass (m) and its velocity (v) squared:\n",
      "\n",
      "**K = 1/2mv^2**\n",
      "\n",
      "**Potential energy (U)** is the energy an object possesses due to its position or configuration. It is calculated as the product of an object's mass, gravitational constant (g), and height or position above a reference point.\n",
      "\n",
      "**U = mgh**\n",
      "\n",
      "Where:\n",
      "\n",
      "* **m** is the mass in kilograms (kg)\n",
      "* **g** is the gravitational constant (9.8 m/s^2)\n",
      "* **h** is the height or position in meters (m)\n",
      "\n",
      "The formula shows that energy can be expressed as the sum of kinetic and potential energy. The kinetic energy is a measure of the object's ability to do work, while the potential energy is a measure of the object's ability to do work against a force.\n"
     ]
    }
   ],
   "source": [
    "print(response.choices[0].message.content)"
   ]
  },
  {
   "cell_type": "code",
   "execution_count": 16,
   "metadata": {},
   "outputs": [
    {
     "name": "stdout",
     "output_type": "stream",
     "text": [
      "CompletionUsage(completion_tokens=281, prompt_tokens=34, total_tokens=315)\n"
     ]
    }
   ],
   "source": [
    "print(response.usage)"
   ]
  }
 ],
 "metadata": {
  "kernelspec": {
   "display_name": "Python 3",
   "language": "python",
   "name": "python3"
  },
  "language_info": {
   "codemirror_mode": {
    "name": "ipython",
    "version": 3
   },
   "file_extension": ".py",
   "mimetype": "text/x-python",
   "name": "python",
   "nbconvert_exporter": "python",
   "pygments_lexer": "ipython3",
   "version": "3.12.1"
  }
 },
 "nbformat": 4,
 "nbformat_minor": 2
}
